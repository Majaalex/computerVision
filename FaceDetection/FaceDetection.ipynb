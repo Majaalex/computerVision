{
 "cells": [
  {
   "cell_type": "code",
   "execution_count": 1,
   "metadata": {},
   "outputs": [],
   "source": [
    "import cv2 as cv\n",
    "import numpy as np"
   ]
  },
  {
   "cell_type": "code",
   "execution_count": 2,
   "metadata": {},
   "outputs": [],
   "source": [
    "face_c = cv.CascadeClassifier(\"haarcascade_frontalface_default.xml\")"
   ]
  },
  {
   "cell_type": "code",
   "execution_count": 2,
   "metadata": {},
   "outputs": [],
   "source": [
    "\n",
    "cap = cv.VideoCapture(\"male_sample.mp4\")\n",
    "\n",
    "# Define the codec and create VideoWriter object\n",
    "fourcc = cv.VideoWriter_fourcc(*'XVID')\n",
    "out = cv.VideoWriter('output.mp4',fourcc, 12.0, (768,432))\n",
    "\n",
    "while(cap.isOpened()):\n",
    "    ret, frame = cap.read()\n",
    "    if ret is True:\n",
    "        gray = cv.cvtColor(frame, cv.COLOR_BGR2GRAY)\n",
    "        faces = face_c.detectMultiScale(gray)\n",
    "        gray = cv.cvtColor(frame, cv.COLOR_BGR2GRAY)\n",
    "        faces = face_c.detectMultiScale(gray)\n",
    "        for(x,y,w,h) in faces:\n",
    "            cv.rectangle(frame,(x,y), (x+w, y+h), (255,0,0), 2)\n",
    "            roi_gray = gray[y:y+h, x:x+w]\n",
    "            roi_color = frame[y:y+h, x:x+w]\n",
    "        #print \"found \" +str(len(faces)) +\" face(s)\"\n",
    "        cv.imshow('frame', frame)\n",
    "        out.write(frame)\n",
    "        k = cv.waitKey(30) & 0xff\n",
    "        if k == 27:\n",
    "            break\n",
    "    else:\n",
    "        break\n",
    "\n",
    "# Release everything if job is finished\n",
    "cap.release()\n",
    "out.release()\n",
    "cv.destroyAllWindows()"
   ]
  },
  {
   "cell_type": "code",
   "execution_count": 15,
   "metadata": {},
   "outputs": [],
   "source": [
    "cap = cv.VideoCapture(0)\n",
    "id = 2\n",
    "sampleN=0;\n",
    "while 1:\n",
    "    ret, img = cap.read()\n",
    "    gray = cv.cvtColor(img, cv.COLOR_BGR2GRAY)\n",
    "    faces = face_c.detectMultiScale(gray, 1.3, 5)\n",
    "    for (x,y,w,h) in faces:\n",
    "        sampleN=sampleN+1;\n",
    "        cv.imwrite(\"C:/Users/Alex-/OneDrive - Arcada/Projects/Year3/Datorseende/FaceDetection/faceData/User.\"+str(id)+ \".\" +str(sampleN)+ \".jpg\", gray[y:y+h, x:x+w])\n",
    "        cv.rectangle(img,(x,y),(x+w,y+h),(255,0,0),2)\n",
    "        cv.waitKey(100)\n",
    "    cv.imshow('img',img)\n",
    "    cv.waitKey(1)\n",
    "    if sampleN > 500:\n",
    "        break\n",
    "cap.release()\n",
    "\n",
    "cv.destroyAllWindows()"
   ]
  },
  {
   "cell_type": "code",
   "execution_count": 16,
   "metadata": {},
   "outputs": [],
   "source": [
    "from PIL import Image # For face recognition we will the the LBPH Face Recognizer \n",
    "import os\n",
    "#cv.create\n",
    "#recognizer = cv.createLBPHFaceRecognizer()\n",
    "recognizer = cv.face.LBPHFaceRecognizer_create() # pip install opencv-contrib-python\n",
    "path=\"C:/Users/Alex-/OneDrive - Arcada/Projects/Year3/Datorseende/FaceDetection/faceData/\"\n",
    "def getImagesWithID(path):\n",
    "    imagePaths = [os.path.join(path, f) for f in os.listdir(path)]   \n",
    " # print image_path   \n",
    " #getImagesWithID(path)\n",
    "    faces = []\n",
    "    IDs = []\n",
    "    for imagePath in imagePaths:      \n",
    "  # Read the image and convert to grayscale\n",
    "        facesImg = Image.open(imagePath).convert('L')\n",
    "        faceNP = np.array(facesImg, 'uint8')\n",
    "        # Get the label of the image\n",
    "        ID= int(os.path.split(imagePath)[-1].split(\".\")[1])\n",
    "         # Detect the face in the image\n",
    "        faces.append(faceNP)\n",
    "        IDs.append(ID)\n",
    "        cv.imshow(\"Adding faces for traning\",faceNP)\n",
    "        cv.waitKey(10)\n",
    "    return np.array(IDs), faces\n",
    "Ids,faces  = getImagesWithID(path)\n",
    "recognizer.train(faces,Ids)\n",
    "recognizer.save(\"C:/Users/Alex-/OneDrive - Arcada/Projects/Year3/Datorseende/FaceDetection/faceREC/trainingdata.yml\")\n",
    "cv.destroyAllWindows()"
   ]
  },
  {
   "cell_type": "code",
   "execution_count": 5,
   "metadata": {},
   "outputs": [
    {
     "name": "stdout",
     "output_type": "stream",
     "text": [
      "98.32618613498869\n",
      "69.16178918343053\n",
      "62.83030105806786\n",
      "129.7293278754117\n",
      "61.8529796628468\n",
      "64.17035662222204\n",
      "68.205546300634\n",
      "126.0815491395174\n",
      "67.59780733615341\n",
      "86.6638686450587\n",
      "100.63989970638315\n"
     ]
    }
   ],
   "source": [
    "cap = cv.VideoCapture(0)\n",
    "rec = cv.face.LBPHFaceRecognizer_create()\n",
    "rec.read(\"C:/Users/Alex-/OneDrive - Arcada/Projects/Year3/Datorseende/FaceDetection/faceREC/trainingdata.yml\")\n",
    "id=0\n",
    "\n",
    "font = cv.FONT_HERSHEY_COMPLEX_SMALL\n",
    "#font=cv.InitFont(cv.FONT_HERSHEY_COMPLEX_SMALL,5,1,0,4)\n",
    "while 1:\n",
    "    ret, img = cap.read()\n",
    "    gray = cv.cvtColor(img, cv.COLOR_BGR2GRAY)\n",
    "    faces = face_c.detectMultiScale(gray, 1.5, 5)\n",
    "    for (x,y,w,h) in faces:\n",
    "        cv.rectangle(img,(x,y),(x+w,y+h),(255,0,0),2)\n",
    "        id,conf=rec.predict(gray[y:y+h,x:x+w])\n",
    "        print(conf)\n",
    "        confPrecision = 65\n",
    "        if id==1 and conf < confPrecision:\n",
    "            id=\"Alexander with glasses\"\n",
    "        elif id==2 and conf < confPrecision:\n",
    "            id=\"Alexander no glasses\"\n",
    "        else:\n",
    "            id=\"Unknown\"\n",
    "        cv.putText(img,str(id),(x,y+h),font,1, 255)\n",
    "    cv.imshow('img',img)\n",
    "    \n",
    "    if cv.waitKey(1) == ord('q'):\n",
    "        break\n",
    "cap.release()\n",
    "\n",
    "cv.destroyAllWindows()"
   ]
  },
  {
   "cell_type": "code",
   "execution_count": null,
   "metadata": {},
   "outputs": [],
   "source": []
  }
 ],
 "metadata": {
  "kernelspec": {
   "display_name": "Python 3",
   "language": "python",
   "name": "python3"
  },
  "language_info": {
   "codemirror_mode": {
    "name": "ipython",
    "version": 3
   },
   "file_extension": ".py",
   "mimetype": "text/x-python",
   "name": "python",
   "nbconvert_exporter": "python",
   "pygments_lexer": "ipython3",
   "version": "3.7.3"
  }
 },
 "nbformat": 4,
 "nbformat_minor": 2
}
