{
 "cells": [
  {
   "cell_type": "markdown",
   "metadata": {},
   "source": [
    "# Simple image \"editor\"\n",
    "\n",
    "This notebook will open an image in the same directory called \"image.jpg\", and you can then either draw a line or rectangle (default) on the image. You can also reset the image to the default one, or save the image.\n",
    "\n",
    "The hotkeys for these buttons are:\n",
    "\n",
    "r = rectangle\n",
    "\n",
    "l = line\n",
    "\n",
    "rectangle and lines are toggles, and once they're toggled you simply click where you want to start the drawing, and release the click where you want it to end.\n",
    "\n",
    "o = reset\n",
    "\n",
    "s = save"
   ]
  },
  {
   "cell_type": "code",
   "execution_count": 1,
   "metadata": {},
   "outputs": [],
   "source": [
    "import cv2 as cv\n",
    "import numpy as np"
   ]
  },
  {
   "cell_type": "code",
   "execution_count": 2,
   "metadata": {},
   "outputs": [],
   "source": [
    "img = cv.imread('image.jpg', -1)\n",
    "clone = img.copy()"
   ]
  },
  {
   "cell_type": "code",
   "execution_count": 6,
   "metadata": {},
   "outputs": [],
   "source": [
    "drawing = False # true if mouse is pressed\n",
    "mode = 'rect' # if True, draw rectangle. Press 'm' to toggle to curve\n",
    "ref_point = []\n",
    "# mouse callback function\n",
    "def draw_shape(event,x,y,flags,param):\n",
    "    global ref_point, crop\n",
    "    \n",
    "    # Create a reference point on mouse down\n",
    "    if event == cv.EVENT_LBUTTONDOWN:\n",
    "        ref_point = [(x,y)]\n",
    "                \n",
    "    # Add a second reference point on mouse op\n",
    "    elif event == cv.EVENT_LBUTTONUP:\n",
    "        ref_point.append((x,y))\n",
    "        # Draw either a rectangle or a line\n",
    "        if mode == 'rect':\n",
    "            cv.rectangle(img,ref_point[0],ref_point[1],(255,255,255),1)\n",
    "        else:\n",
    "            cv.line(img,ref_point[0],ref_point[1],(0,0,255), 2)"
   ]
  },
  {
   "cell_type": "code",
   "execution_count": 7,
   "metadata": {},
   "outputs": [],
   "source": [
    "def save_image():\n",
    "    cv.imwrite('saved_image.jpg', img)"
   ]
  },
  {
   "cell_type": "code",
   "execution_count": 9,
   "metadata": {},
   "outputs": [],
   "source": [
    "cv.namedWindow('image')\n",
    "cv.setMouseCallback('image',draw_shape)\n",
    "while(1):\n",
    "    cv.imshow('image',img)\n",
    "    k = cv.waitKey(1) & 0xFF\n",
    "    if (k == ord('l')):\n",
    "        mode = 'line'\n",
    "    elif (k == ord('r')):\n",
    "        mode = 'rect'\n",
    "    elif (k == ord('o')):\n",
    "        img = clone.copy()\n",
    "    elif (k == ord('s')):\n",
    "        save_image()\n",
    "    elif k == 27:\n",
    "        break\n",
    "cv.destroyAllWindows()"
   ]
  },
  {
   "cell_type": "code",
   "execution_count": null,
   "metadata": {},
   "outputs": [],
   "source": []
  }
 ],
 "metadata": {
  "kernelspec": {
   "display_name": "Python 3",
   "language": "python",
   "name": "python3"
  },
  "language_info": {
   "codemirror_mode": {
    "name": "ipython",
    "version": 3
   },
   "file_extension": ".py",
   "mimetype": "text/x-python",
   "name": "python",
   "nbconvert_exporter": "python",
   "pygments_lexer": "ipython3",
   "version": "3.7.3"
  }
 },
 "nbformat": 4,
 "nbformat_minor": 2
}
