{
  "nbformat": 4,
  "nbformat_minor": 0,
  "metadata": {
    "colab": {
      "name": "Untitled0.ipynb",
      "provenance": []
    },
    "kernelspec": {
      "name": "python3",
      "display_name": "Python 3"
    }
  },
  "cells": [
    {
      "cell_type": "code",
      "metadata": {
        "id": "9ieum6Y1Iqj2",
        "colab_type": "code",
        "outputId": "e359a559-05ab-4571-91d5-a98545442060",
        "colab": {
          "base_uri": "https://localhost:8080/",
          "height": 83
        }
      },
      "source": [
        "import numpy as np\n",
        "import tensorflow as tf\n",
        "\n",
        "from keras.datasets import cifar10\n",
        "from keras.utils import np_utils\n",
        "#from keras.models import Sequential\n",
        "#from keras.layers import Dense, Flatten\n",
        "from tensorflow.python.keras import Sequential\n",
        "from tensorflow.python.keras.layers import Dense, Flatten, Conv2D, MaxPooling2D, Dropout\n",
        "\n",
        "import matplotlib.pyplot as plt\n",
        "import matplotlib.image as mpimg"
      ],
      "execution_count": 0,
      "outputs": [
        {
          "output_type": "display_data",
          "data": {
            "text/html": [
              "<p style=\"color: red;\">\n",
              "The default version of TensorFlow in Colab will soon switch to TensorFlow 2.x.<br>\n",
              "We recommend you <a href=\"https://www.tensorflow.org/guide/migrate\" target=\"_blank\">upgrade</a> now \n",
              "or ensure your notebook will continue to use TensorFlow 1.x via the <code>%tensorflow_version 1.x</code> magic:\n",
              "<a href=\"https://colab.research.google.com/notebooks/tensorflow_version.ipynb\" target=\"_blank\">more info</a>.</p>\n"
            ],
            "text/plain": [
              "<IPython.core.display.HTML object>"
            ]
          },
          "metadata": {
            "tags": []
          }
        },
        {
          "output_type": "stream",
          "text": [
            "Using TensorFlow backend.\n"
          ],
          "name": "stderr"
        }
      ]
    },
    {
      "cell_type": "code",
      "metadata": {
        "id": "JnZ30AK5JFxN",
        "colab_type": "code",
        "outputId": "8e891294-0144-4f4c-f00c-9e1a0d17cddf",
        "colab": {
          "base_uri": "https://localhost:8080/",
          "height": 54
        }
      },
      "source": [
        "(x_train, y_train), (x_test, y_test) = cifar10.load_data()"
      ],
      "execution_count": 0,
      "outputs": [
        {
          "output_type": "stream",
          "text": [
            "Downloading data from https://www.cs.toronto.edu/~kriz/cifar-10-python.tar.gz\n",
            "170500096/170498071 [==============================] - 2s 0us/step\n"
          ],
          "name": "stdout"
        }
      ]
    },
    {
      "cell_type": "code",
      "metadata": {
        "id": "r0fZS6bmJF7c",
        "colab_type": "code",
        "colab": {}
      },
      "source": [
        "x_train = x_train.astype(\"float32\")\n",
        "x_test = x_test.astype(\"float32\")"
      ],
      "execution_count": 0,
      "outputs": []
    },
    {
      "cell_type": "code",
      "metadata": {
        "id": "csFId1nYJGC7",
        "colab_type": "code",
        "colab": {}
      },
      "source": [
        "y_train = np_utils.to_categorical(y_train, 10)\n",
        "y_test = np_utils.to_categorical(y_test, 10)"
      ],
      "execution_count": 0,
      "outputs": []
    },
    {
      "cell_type": "code",
      "metadata": {
        "id": "CUR6YPE6JGFx",
        "colab_type": "code",
        "colab": {}
      },
      "source": [
        "x_train = tf.keras.utils.normalize(x_train, axis=1)\n",
        "x_test = tf.keras.utils.normalize(x_test, axis=1)"
      ],
      "execution_count": 0,
      "outputs": []
    },
    {
      "cell_type": "code",
      "metadata": {
        "id": "3O3S67szJGIW",
        "colab_type": "code",
        "colab": {}
      },
      "source": [
        "model = Sequential()"
      ],
      "execution_count": 0,
      "outputs": []
    },
    {
      "cell_type": "code",
      "metadata": {
        "id": "d4TPO5ilJGK5",
        "colab_type": "code",
        "outputId": "fa35793b-1adc-4ebe-8df4-ab23f81341b6",
        "colab": {
          "base_uri": "https://localhost:8080/",
          "height": 92
        }
      },
      "source": [
        "model.add(Conv2D(32,(3,3), activation=\"relu\", padding=\"same\", input_shape=(32,32,3)))\n",
        "model.add(MaxPooling2D(pool_size=(2,2)))\n",
        "model.add(Dropout(0.4))"
      ],
      "execution_count": 0,
      "outputs": [
        {
          "output_type": "stream",
          "text": [
            "WARNING:tensorflow:From /usr/local/lib/python3.6/dist-packages/tensorflow_core/python/ops/resource_variable_ops.py:1630: calling BaseResourceVariable.__init__ (from tensorflow.python.ops.resource_variable_ops) with constraint is deprecated and will be removed in a future version.\n",
            "Instructions for updating:\n",
            "If using Keras pass *_constraint arguments to layers.\n"
          ],
          "name": "stdout"
        }
      ]
    },
    {
      "cell_type": "code",
      "metadata": {
        "id": "c07hc4wvJGNf",
        "colab_type": "code",
        "colab": {}
      },
      "source": [
        "model.add(Conv2D(64,(3,3), activation=\"relu\", padding=\"same\", input_shape=(32,32,3)))\n",
        "model.add(MaxPooling2D(pool_size=(2,2)))\n",
        "model.add(Dropout(0.4))"
      ],
      "execution_count": 0,
      "outputs": []
    },
    {
      "cell_type": "code",
      "metadata": {
        "id": "q_TqM04xJGP8",
        "colab_type": "code",
        "colab": {}
      },
      "source": [
        "model.add(Conv2D(64,(3,3), activation=\"relu\", padding=\"same\", input_shape=(32,32,3)))\n",
        "model.add(MaxPooling2D(pool_size=(2,2)))\n",
        "model.add(Dropout(0.4))"
      ],
      "execution_count": 0,
      "outputs": []
    },
    {
      "cell_type": "code",
      "metadata": {
        "id": "p77YK2gIJGSU",
        "colab_type": "code",
        "colab": {}
      },
      "source": [
        "model.add(Flatten())\n",
        "model.add(Dense(512, activation=\"relu\"))\n",
        "model.add(Dropout(0.4))"
      ],
      "execution_count": 0,
      "outputs": []
    },
    {
      "cell_type": "code",
      "metadata": {
        "id": "Bo3Kp0JFJUXp",
        "colab_type": "code",
        "colab": {}
      },
      "source": [
        "model.add(Dense(10, activation=\"softmax\"))"
      ],
      "execution_count": 0,
      "outputs": []
    },
    {
      "cell_type": "code",
      "metadata": {
        "id": "0Jm0wtFYJUa-",
        "colab_type": "code",
        "outputId": "9502993e-8c75-4012-a822-4919c5f7d78a",
        "colab": {
          "base_uri": "https://localhost:8080/",
          "height": 641
        }
      },
      "source": [
        "model.summary()"
      ],
      "execution_count": 0,
      "outputs": [
        {
          "output_type": "stream",
          "text": [
            "Model: \"sequential\"\n",
            "_________________________________________________________________\n",
            "Layer (type)                 Output Shape              Param #   \n",
            "=================================================================\n",
            "conv2d (Conv2D)              (None, 32, 32, 32)        896       \n",
            "_________________________________________________________________\n",
            "max_pooling2d (MaxPooling2D) (None, 16, 16, 32)        0         \n",
            "_________________________________________________________________\n",
            "dropout (Dropout)            (None, 16, 16, 32)        0         \n",
            "_________________________________________________________________\n",
            "conv2d_1 (Conv2D)            (None, 16, 16, 64)        18496     \n",
            "_________________________________________________________________\n",
            "max_pooling2d_1 (MaxPooling2 (None, 8, 8, 64)          0         \n",
            "_________________________________________________________________\n",
            "dropout_1 (Dropout)          (None, 8, 8, 64)          0         \n",
            "_________________________________________________________________\n",
            "conv2d_2 (Conv2D)            (None, 8, 8, 64)          36928     \n",
            "_________________________________________________________________\n",
            "max_pooling2d_2 (MaxPooling2 (None, 4, 4, 64)          0         \n",
            "_________________________________________________________________\n",
            "dropout_2 (Dropout)          (None, 4, 4, 64)          0         \n",
            "_________________________________________________________________\n",
            "flatten (Flatten)            (None, 1024)              0         \n",
            "_________________________________________________________________\n",
            "dense (Dense)                (None, 512)               524800    \n",
            "_________________________________________________________________\n",
            "dropout_3 (Dropout)          (None, 512)               0         \n",
            "_________________________________________________________________\n",
            "dense_1 (Dense)              (None, 10)                5130      \n",
            "=================================================================\n",
            "Total params: 586,250\n",
            "Trainable params: 586,250\n",
            "Non-trainable params: 0\n",
            "_________________________________________________________________\n"
          ],
          "name": "stdout"
        }
      ]
    },
    {
      "cell_type": "code",
      "metadata": {
        "id": "Q-rFUt-5JUds",
        "colab_type": "code",
        "outputId": "1bae46c3-a0d1-4600-d917-54e42ccac319",
        "colab": {
          "base_uri": "https://localhost:8080/",
          "height": 1000
        }
      },
      "source": [
        "model.compile(loss=\"categorical_crossentropy\", optimizer=\"adam\", metrics=[\"accuracy\"])\n",
        "model_fil = model.fit(x_train, y_train, epochs=20, batch_size=50, validation_split=0.2)"
      ],
      "execution_count": 0,
      "outputs": [
        {
          "output_type": "stream",
          "text": [
            "Train on 40000 samples, validate on 10000 samples\n",
            "Epoch 1/20\n",
            "37650/40000 [===========================>..] - ETA: 5s - loss: 1.8868 - acc: 0.3099"
          ],
          "name": "stdout"
        },
        {
          "output_type": "stream",
          "text": [
            "ERROR:root:Internal Python error in the inspect module.\n",
            "Below is the traceback from this internal error.\n",
            "\n"
          ],
          "name": "stderr"
        },
        {
          "output_type": "stream",
          "text": [
            "Traceback (most recent call last):\n",
            "  File \"/usr/local/lib/python3.6/dist-packages/IPython/core/interactiveshell.py\", line 2882, in run_code\n",
            "    exec(code_obj, self.user_global_ns, self.user_ns)\n",
            "  File \"<ipython-input-13-3fb6c92b786f>\", line 2, in <module>\n",
            "    model_fil = model.fit(x_train, y_train, epochs=20, batch_size=50, validation_split=0.2)\n",
            "  File \"/usr/local/lib/python3.6/dist-packages/tensorflow_core/python/keras/engine/training.py\", line 727, in fit\n",
            "    use_multiprocessing=use_multiprocessing)\n",
            "  File \"/usr/local/lib/python3.6/dist-packages/tensorflow_core/python/keras/engine/training_arrays.py\", line 675, in fit\n",
            "    steps_name='steps_per_epoch')\n",
            "  File \"/usr/local/lib/python3.6/dist-packages/tensorflow_core/python/keras/engine/training_arrays.py\", line 394, in model_iteration\n",
            "    batch_outs = f(ins_batch)\n",
            "  File \"/usr/local/lib/python3.6/dist-packages/tensorflow_core/python/keras/backend.py\", line 3476, in __call__\n",
            "    run_metadata=self.run_metadata)\n",
            "  File \"/usr/local/lib/python3.6/dist-packages/tensorflow_core/python/client/session.py\", line 1472, in __call__\n",
            "    run_metadata_ptr)\n",
            "KeyboardInterrupt\n",
            "\n",
            "During handling of the above exception, another exception occurred:\n",
            "\n",
            "Traceback (most recent call last):\n",
            "  File \"/usr/local/lib/python3.6/dist-packages/IPython/core/interactiveshell.py\", line 1823, in showtraceback\n",
            "    stb = value._render_traceback_()\n",
            "AttributeError: 'KeyboardInterrupt' object has no attribute '_render_traceback_'\n",
            "\n",
            "During handling of the above exception, another exception occurred:\n",
            "\n",
            "Traceback (most recent call last):\n",
            "  File \"/usr/local/lib/python3.6/dist-packages/IPython/core/ultratb.py\", line 1132, in get_records\n",
            "    return _fixed_getinnerframes(etb, number_of_lines_of_context, tb_offset)\n",
            "  File \"/usr/local/lib/python3.6/dist-packages/IPython/core/ultratb.py\", line 313, in wrapped\n",
            "    return f(*args, **kwargs)\n",
            "  File \"/usr/local/lib/python3.6/dist-packages/IPython/core/ultratb.py\", line 358, in _fixed_getinnerframes\n",
            "    records = fix_frame_records_filenames(inspect.getinnerframes(etb, context))\n",
            "  File \"/usr/lib/python3.6/inspect.py\", line 1490, in getinnerframes\n",
            "    frameinfo = (tb.tb_frame,) + getframeinfo(tb, context)\n",
            "  File \"/usr/lib/python3.6/inspect.py\", line 1448, in getframeinfo\n",
            "    filename = getsourcefile(frame) or getfile(frame)\n",
            "  File \"/usr/lib/python3.6/inspect.py\", line 696, in getsourcefile\n",
            "    if getattr(getmodule(object, filename), '__loader__', None) is not None:\n",
            "  File \"/usr/lib/python3.6/inspect.py\", line 733, in getmodule\n",
            "    if ismodule(module) and hasattr(module, '__file__'):\n",
            "  File \"/usr/local/lib/python3.6/dist-packages/tensorflow/__init__.py\", line 50, in __getattr__\n",
            "    module = self._load()\n",
            "  File \"/usr/local/lib/python3.6/dist-packages/tensorflow/__init__.py\", line 44, in _load\n",
            "    module = _importlib.import_module(self.__name__)\n",
            "  File \"/usr/lib/python3.6/importlib/__init__.py\", line 126, in import_module\n",
            "    return _bootstrap._gcd_import(name[level:], package, level)\n",
            "  File \"<frozen importlib._bootstrap>\", line 994, in _gcd_import\n",
            "  File \"<frozen importlib._bootstrap>\", line 971, in _find_and_load\n",
            "  File \"<frozen importlib._bootstrap>\", line 955, in _find_and_load_unlocked\n",
            "  File \"<frozen importlib._bootstrap>\", line 665, in _load_unlocked\n",
            "  File \"<frozen importlib._bootstrap_external>\", line 678, in exec_module\n",
            "  File \"<frozen importlib._bootstrap>\", line 219, in _call_with_frames_removed\n",
            "  File \"/usr/local/lib/python3.6/dist-packages/tensorflow_core/contrib/__init__.py\", line 43, in <module>\n",
            "    from tensorflow.contrib import cudnn_rnn\n",
            "  File \"/usr/local/lib/python3.6/dist-packages/tensorflow_core/contrib/cudnn_rnn/__init__.py\", line 38, in <module>\n",
            "    from tensorflow.contrib.cudnn_rnn.python.layers import *\n",
            "  File \"/usr/local/lib/python3.6/dist-packages/tensorflow_core/contrib/cudnn_rnn/__init__.py\", line 38, in <module>\n",
            "    from tensorflow.contrib.cudnn_rnn.python.layers import *\n",
            "  File \"/usr/local/lib/python3.6/dist-packages/tensorflow_core/contrib/cudnn_rnn/python/layers/__init__.py\", line 23, in <module>\n",
            "    from tensorflow.contrib.cudnn_rnn.python.layers.cudnn_rnn import *\n",
            "  File \"/usr/local/lib/python3.6/dist-packages/tensorflow_core/contrib/cudnn_rnn/python/layers/cudnn_rnn.py\", line 20, in <module>\n",
            "    from tensorflow.contrib.cudnn_rnn.python.ops import cudnn_rnn_ops\n",
            "  File \"/usr/local/lib/python3.6/dist-packages/tensorflow_core/contrib/cudnn_rnn/python/ops/cudnn_rnn_ops.py\", line 22, in <module>\n",
            "    from tensorflow.contrib.rnn.python.ops import lstm_ops\n",
            "  File \"/usr/local/lib/python3.6/dist-packages/tensorflow_core/contrib/rnn/__init__.py\", line 93, in <module>\n",
            "    from tensorflow.contrib.rnn.python.ops.rnn_cell import *\n",
            "  File \"/usr/local/lib/python3.6/dist-packages/tensorflow_core/contrib/rnn/python/ops/rnn_cell.py\", line 24, in <module>\n",
            "    from tensorflow.contrib.layers.python.layers import layers\n",
            "  File \"/usr/local/lib/python3.6/dist-packages/tensorflow_core/contrib/layers/__init__.py\", line 116, in <module>\n",
            "    from tensorflow.contrib.layers.python.layers import *\n",
            "  File \"/usr/local/lib/python3.6/dist-packages/tensorflow_core/contrib/layers/python/layers/__init__.py\", line 33, in <module>\n",
            "    from tensorflow.contrib.layers.python.layers.target_column import *\n",
            "  File \"/usr/local/lib/python3.6/dist-packages/tensorflow_core/contrib/layers/python/layers/target_column.py\", line 25, in <module>\n",
            "    from tensorflow.contrib.metrics.python.ops import metric_ops\n",
            "  File \"/usr/local/lib/python3.6/dist-packages/tensorflow_core/contrib/metrics/__init__.py\", line 87, in <module>\n",
            "    from tensorflow.contrib.metrics.python.ops.confusion_matrix_ops import confusion_matrix\n",
            "  File \"<frozen importlib._bootstrap>\", line 971, in _find_and_load\n",
            "  File \"<frozen importlib._bootstrap>\", line 951, in _find_and_load_unlocked\n",
            "  File \"<frozen importlib._bootstrap>\", line 894, in _find_spec\n",
            "  File \"<frozen importlib._bootstrap>\", line 782, in find_spec\n",
            "KeyboardInterrupt\n"
          ],
          "name": "stdout"
        },
        {
          "output_type": "error",
          "ename": "KeyboardInterrupt",
          "evalue": "ignored",
          "traceback": [
            "\u001b[0;31m---------------------------------------------------------------------------\u001b[0m"
          ]
        }
      ]
    },
    {
      "cell_type": "code",
      "metadata": {
        "id": "C94Df4ycJUgV",
        "colab_type": "code",
        "colab": {}
      },
      "source": [
        "results = model.evaluate(x_test, y_test)"
      ],
      "execution_count": 0,
      "outputs": []
    },
    {
      "cell_type": "code",
      "metadata": {
        "id": "olUinlN_JUjN",
        "colab_type": "code",
        "colab": {}
      },
      "source": [
        "print(results)"
      ],
      "execution_count": 0,
      "outputs": []
    },
    {
      "cell_type": "code",
      "metadata": {
        "id": "iQrdoEYUJUls",
        "colab_type": "code",
        "colab": {}
      },
      "source": [
        "history_dict = model_fil.history\n",
        "history_dict.keys()"
      ],
      "execution_count": 0,
      "outputs": []
    },
    {
      "cell_type": "code",
      "metadata": {
        "id": "I9F9w9aTJGUr",
        "colab_type": "code",
        "colab": {}
      },
      "source": [
        "model_fil.history[\"accuracy\"]"
      ],
      "execution_count": 0,
      "outputs": []
    },
    {
      "cell_type": "code",
      "metadata": {
        "id": "KFXQbRrgJdqI",
        "colab_type": "code",
        "colab": {}
      },
      "source": [
        "acc = model_fil.history[\"accuracy\"]\n",
        "val_acc = model_fil.history[\"val_accuracy\"]\n",
        "loss = model_fil.history[\"loss\"]\n",
        "val_loss = model_fil.history[\"val_loss\"]"
      ],
      "execution_count": 0,
      "outputs": []
    },
    {
      "cell_type": "code",
      "metadata": {
        "id": "4WDQMw28Jdsz",
        "colab_type": "code",
        "colab": {}
      },
      "source": [
        "epochs = range(1, len(acc) + 1)\n",
        "plt.figure(figsize=(10,5))\n",
        "plt.plot(epochs, loss, \"bo\", label = \"Training loss\")\n",
        "plt.plot(epochs, val_loss, \"b\", label = \"Validation loss\")\n",
        "plt.xlabel(\"Epochs\")\n",
        "plt.ylabel(\"Loss\")\n",
        "plt.legend()\n",
        "plt.show()"
      ],
      "execution_count": 0,
      "outputs": []
    },
    {
      "cell_type": "code",
      "metadata": {
        "id": "qGAoqRE_Jdvd",
        "colab_type": "code",
        "colab": {}
      },
      "source": [
        "epochs = range(1, len(acc) + 1)\n",
        "plt.figure(figsize=(10,5))\n",
        "plt.plot(epochs, acc, \"bo\", label = \"Accuracy\")\n",
        "plt.plot(epochs, val_acc, \"b\", label = \"Validation accuracy\")\n",
        "plt.xlabel(\"Epochs\")\n",
        "plt.ylabel(\"Loss\")\n",
        "plt.legend()\n",
        "plt.show()"
      ],
      "execution_count": 0,
      "outputs": []
    },
    {
      "cell_type": "code",
      "metadata": {
        "id": "U6mIB5hoJdyI",
        "colab_type": "code",
        "colab": {}
      },
      "source": [
        "import numpy as np\n",
        "from tensorflow.python.keras.preprocessing import image as kimage\n",
        "test_image1 = kimage.load_img(\"moose.jpg\", target_size=(32,32))"
      ],
      "execution_count": 0,
      "outputs": []
    },
    {
      "cell_type": "code",
      "metadata": {
        "id": "VKVyNqw0Jd0d",
        "colab_type": "code",
        "colab": {}
      },
      "source": [
        "test_image = kimage.img_to_array(test_image1)\n",
        "test_image = np.expand_dims(test_image, axis = 0)\n",
        "result = model.predict(test_image)\n",
        "\n",
        "print(result)\n",
        "if result[0][0]==1:\n",
        "    print(\"Airplane\")\n",
        "elif result[0][1]==1:\n",
        "    print(\"Autmobile\")\n",
        "elif result[0][2]==1:\n",
        "    print(\"Bird\")\n",
        "elif result[0][3]==1:\n",
        "    print(\"Cat\")\n",
        "elif result[0][4]==1:\n",
        "    print(\"Deer\")\n",
        "elif result[0][5]==1:\n",
        "    print(\"Dog\")\n",
        "elif result[0][6]==1:\n",
        "    print(\"Frog\")\n",
        "elif result[0][7]==1:\n",
        "    print(\"Horse\")\n",
        "elif result[0][8]==1:\n",
        "    print(\"Ship\")\n",
        "elif result[0][9]==1:\n",
        "    print(\"Truck\")\n",
        "else:\n",
        "    print(\"Error\")"
      ],
      "execution_count": 0,
      "outputs": []
    },
    {
      "cell_type": "code",
      "metadata": {
        "id": "1Oe6NXF6Jd3U",
        "colab_type": "code",
        "colab": {}
      },
      "source": [
        ""
      ],
      "execution_count": 0,
      "outputs": []
    }
  ]
}